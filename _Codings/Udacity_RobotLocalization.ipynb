{
  "nbformat": 4,
  "nbformat_minor": 0,
  "metadata": {
    "colab": {
      "provenance": []
    },
    "kernelspec": {
      "name": "python3",
      "display_name": "Python 3"
    },
    "language_info": {
      "name": "python"
    }
  },
  "cells": [
    {
      "cell_type": "code",
      "execution_count": null,
      "metadata": {
        "id": "1-bUAzqI4_82"
      },
      "outputs": [],
      "source": [
        "import matplotlib.pyplot as plt\n",
        "import numpy as np"
      ]
    },
    {
      "cell_type": "code",
      "source": [
        "p = [0.2, 0.2, 0.2, 0.2, 0.2]\n",
        "\n",
        "def display_map(grid, bar_width=1):\n",
        "  if(len(grid) > 0):\n",
        "    x_labels = range(len(grid))\n",
        "    plt.bar(x_labels, height=grid, width=bar_width, color='b')\n",
        "    plt.xlabel('Grid Cell')\n",
        "    plt.ylabel('Probability')\n",
        "    plt.ylim(0, 1)\n",
        "    plt.title('Probability of the robot being at each cell in the grid')\n",
        "    plt.xticks(np.arange(min(x_labels), max(x_labels)+1, 1))\n",
        "  else:\n",
        "    print('Grid is empty')\n",
        "  \n",
        "display_map(p)"
      ],
      "metadata": {
        "colab": {
          "base_uri": "https://localhost:8080/",
          "height": 295
        },
        "id": "o2emAdSP5Iyq",
        "outputId": "7b013bfa-f7a4-4a5c-f327-d17ea87611bd"
      },
      "execution_count": null,
      "outputs": [
        {
          "output_type": "display_data",
          "data": {
            "text/plain": [
              "<Figure size 432x288 with 1 Axes>"
            ],
            "image/png": "[encoded data removed]"
          },
          "metadata": {
            "needs_background": "light"
          }
        }
      ]
    },
    {
      "cell_type": "code",
      "source": [
        "import random\n",
        "def initialize_robot(grid_length):\n",
        "  p = np.empty([grid_length, 2])\n",
        "  for i in range(grid_length):\n",
        "    p[i,0] = 1/grid_length\n",
        "    p[i,1] = random.randint(0,1)\n",
        "  grid = p[:,0]\n",
        "  return p, grid"
      ],
      "metadata": {
        "id": "YB-SxrMY7eSy"
      },
      "execution_count": null,
      "outputs": []
    },
    {
      "cell_type": "code",
      "source": [
        "p, grid = initialize_robot(5)\n",
        "print(p)\n",
        "display_map(grid)"
      ],
      "metadata": {
        "colab": {
          "base_uri": "https://localhost:8080/",
          "height": 388
        },
        "id": "p16iK1qg7mv_",
        "outputId": "5b5cd0c8-9134-4358-e556-76faa4d47c3e"
      },
      "execution_count": null,
      "outputs": [
        {
          "output_type": "stream",
          "name": "stdout",
          "text": [
            "[[0.2 1. ]\n",
            " [0.2 1. ]\n",
            " [0.2 0. ]\n",
            " [0.2 0. ]\n",
            " [0.2 0. ]]\n"
          ]
        },
        {
          "output_type": "display_data",
          "data": {
            "text/plain": [
              "<Figure size 432x288 with 1 Axes>"
            ],
            "image/png": "[encoded data removed]"
          },
          "metadata": {
            "needs_background": "light"
          }
        }
      ]
    },
    {
      "cell_type": "code",
      "source": [
        "pHit = 0.6\n",
        "pMiss = 0.2\n",
        "\n",
        "def prob_calculation(dest_color, p):\n",
        "  if dest_color == 'Green': \n",
        "    dest_num = 0\n",
        "  else:\n",
        "    dest_num = 1\n",
        "  \n",
        "  for i in range(p.shape[0]):\n",
        "    if dest_num == p[i,1]:\n",
        "      p[i,0] = p[i,0] * pHit\n",
        "    else:\n",
        "      p[i,0] = p[i,0] * pMiss\n",
        "  grid = p[:,0]\n",
        "  print(p)\n",
        "  #display_map(grid)\n",
        "  return p"
      ],
      "metadata": {
        "id": "EsV-E93I88Bj"
      },
      "execution_count": null,
      "outputs": []
    },
    {
      "cell_type": "code",
      "source": [
        "measurements = ['Green']\n",
        "\n",
        "for k in range(len(measurements)):\n",
        "  new_p = prob_calculation(measurements[k], p)\n",
        "\n",
        "display_map(new_p[:,0])"
      ],
      "metadata": {
        "colab": {
          "base_uri": "https://localhost:8080/",
          "height": 388
        },
        "id": "r6I4iqH7A1Gx",
        "outputId": "d402c7f6-e218-4e2f-9e17-76c4a2c52727"
      },
      "execution_count": null,
      "outputs": [
        {
          "output_type": "stream",
          "name": "stdout",
          "text": [
            "[[0.04 1.  ]\n",
            " [0.04 1.  ]\n",
            " [0.12 0.  ]\n",
            " [0.12 0.  ]\n",
            " [0.12 0.  ]]\n"
          ]
        },
        {
          "output_type": "display_data",
          "data": {
            "text/plain": [
              "<Figure size 432x288 with 1 Axes>"
            ],
            "image/png": "[encoded data removed]"
          },
          "metadata": {
            "needs_background": "light"
          }
        }
      ]
    },
    {
      "cell_type": "code",
      "source": [
        "total_prob = 0\n",
        "for i in range(p.shape[0]):\n",
        "  total_prob += p[i,0]\n",
        "print(total_prob)"
      ],
      "metadata": {
        "id": "Ai--xAUQBCQ1",
        "colab": {
          "base_uri": "https://localhost:8080/"
        },
        "outputId": "c1139df0-161d-4e63-bbd2-216bc92f59cd"
      },
      "execution_count": null,
      "outputs": [
        {
          "output_type": "stream",
          "name": "stdout",
          "text": [
            "0.44\n"
          ]
        }
      ]
    },
    {
      "cell_type": "code",
      "source": [
        "\n",
        "p_udacity = [0.2, 0.2, 0.2, 0.2, 0.2]\n",
        "world = ['green', 'red', 'red', 'green', 'green']\n",
        "Z = 'red'\n",
        "pHit = 0.6\n",
        "pMiss = 0.2\n",
        "\n",
        "def sense(p,Z):\n",
        "  q = []\n",
        "  for i in range(len(p)):\n",
        "    hit = (Z == world[i])\n",
        "    q.append(p[i] * (hit *pHit + (1-hit) * pMiss))\n",
        "  return q\n",
        "\n",
        "print(sense(p_udacity,Z))"
      ],
      "metadata": {
        "id": "EZVrYI59i1gA",
        "colab": {
          "base_uri": "https://localhost:8080/"
        },
        "outputId": "91d526c3-48e4-41ec-923a-be82c1552794"
      },
      "execution_count": null,
      "outputs": [
        {
          "output_type": "stream",
          "name": "stdout",
          "text": [
            "[0.04000000000000001, 0.12, 0.12, 0.04000000000000001, 0.04000000000000001]\n"
          ]
        }
      ]
    },
    {
      "cell_type": "code",
      "source": [
        "def norm_prob(p):\n",
        "  total_prob = np.sum(p[:,0])\n",
        "  q = []\n",
        "  for i in range(p.shape[0]):\n",
        "    q.append(p[i,0] / total_prob)\n",
        "  display_map(q)\n",
        "  return q"
      ],
      "metadata": {
        "id": "MRF9wlXejJGR"
      },
      "execution_count": null,
      "outputs": []
    },
    {
      "cell_type": "code",
      "source": [
        "norm_p = norm_prob(new_p)\n",
        "print(norm_p)"
      ],
      "metadata": {
        "id": "4yZU0SJ3nLLC",
        "colab": {
          "base_uri": "https://localhost:8080/",
          "height": 334
        },
        "outputId": "e0e30cfa-1425-4c5c-e7bf-8665b70bc482"
      },
      "execution_count": null,
      "outputs": [
        {
          "output_type": "stream",
          "name": "stdout",
          "text": [
            "[0.09090909090909093, 0.09090909090909093, 0.2727272727272727, 0.2727272727272727, 0.2727272727272727]\n"
          ]
        },
        {
          "output_type": "display_data",
          "data": {
            "text/plain": [
              "<Figure size 432x288 with 1 Axes>"
            ],
            "image/png": "[encoded data removed]"
          },
          "metadata": {
            "needs_background": "light"
          }
        }
      ]
    },
    {
      "cell_type": "code",
      "source": [
        "np.sum(norm_p)"
      ],
      "metadata": {
        "id": "DjFx7RGco1m7",
        "colab": {
          "base_uri": "https://localhost:8080/"
        },
        "outputId": "4e713f67-e62f-4b4e-da8a-b84f3404901c"
      },
      "execution_count": null,
      "outputs": [
        {
          "output_type": "execute_result",
          "data": {
            "text/plain": [
              "1.0"
            ]
          },
          "metadata": {},
          "execution_count": 11
        }
      ]
    },
    {
      "cell_type": "code",
      "source": [
        "\n",
        "def sense(p, Z):\n",
        "  q = []\n",
        "  for i in range(len(p)):\n",
        "    hit = (Z==world[i])\n",
        "    q.append(p[i] * (hit * pHit + (1 - hit) * pMiss))\n",
        "  s = sum(q)\n",
        "  for i in range(len(p)):\n",
        "    q[i] = q[i] / s\n",
        "  return q\n",
        "\n",
        "measurements = ['green', 'red']\n",
        "for k in range(len(measurements)):\n",
        "  sol_p = sense(p_udacity, measurements[k])"
      ],
      "metadata": {
        "id": "IsBL75CrpEBi"
      },
      "execution_count": null,
      "outputs": []
    },
    {
      "cell_type": "code",
      "source": [
        "pExact = 0.8\n",
        "pOvershoot = 0.1\n",
        "pUndershoot = 0.1\n",
        "\n",
        "def move(p, direction, steps):\n",
        "  if direction == 'right':\n",
        "    move_p = np.roll(p, steps)\n",
        "  else:\n",
        "    move_p = np.roll(p, -(steps))\n",
        "  return move_p"
      ],
      "metadata": {
        "id": "IZ0OKY6vpiA8"
      },
      "execution_count": null,
      "outputs": []
    },
    {
      "cell_type": "code",
      "source": [
        "move_p = move(norm_p, 'right',1)\n",
        "display_map(move_p)"
      ],
      "metadata": {
        "colab": {
          "base_uri": "https://localhost:8080/",
          "height": 295
        },
        "id": "5EtO111ACsKX",
        "outputId": "01ef9c57-5356-4265-e579-16363c8e5b5c"
      },
      "execution_count": null,
      "outputs": [
        {
          "output_type": "display_data",
          "data": {
            "text/plain": [
              "<Figure size 432x288 with 1 Axes>"
            ],
            "image/png": "[encoded data removed]"
          },
          "metadata": {
            "needs_background": "light"
          }
        }
      ]
    },
    {
      "cell_type": "code",
      "source": [
        "# Udacity Solution\n",
        "def move(p, U):\n",
        "  q = []\n",
        "  for i in range(len(p)):\n",
        "    s = pExact * p[(i-U) % len(p)]\n",
        "    s = s + pOvershoot * p[(i-U) % len(p)]\n",
        "    s = s + pUndershoot * p[(i-U) % len(p)]\n",
        "    q.append(s)\n",
        "  return q"
      ],
      "metadata": {
        "id": "fUYY_jcgDD-U"
      },
      "execution_count": null,
      "outputs": []
    },
    {
      "cell_type": "code",
      "source": [
        "initial_p = [1, 0, 0, 0, 0]\n",
        "# 1 for green, 0 for red \n",
        "world = [1, 0, 0, 1, 1]\n",
        "measurements = [0, 1]\n",
        "# 1 for right 0 for left\n",
        "motions = [1, 1]"
      ],
      "metadata": {
        "id": "yjalNkx7sWK2"
      },
      "execution_count": null,
      "outputs": []
    }
  ]
}