{
  "nbformat": 4,
  "nbformat_minor": 0,
  "metadata": {
    "colab": {
      "provenance": []
    },
    "kernelspec": {
      "name": "python3",
      "display_name": "Python 3"
    },
    "language_info": {
      "name": "python"
    }
  },
  "cells": [
    {
      "cell_type": "code",
      "execution_count": null,
      "metadata": {
        "id": "VyGD8fpV-sXF"
      },
      "outputs": [],
      "source": [
        "from math import *\n",
        "import matplotlib.pyplot as plt\n",
        "import numpy as np\n",
        "\n",
        "def f(mu, sigma2, x):\n",
        "  coefficient = 1.0 / sqrt(2.0 * pi * sigma2)\n",
        "  exponential = exp(-0.5 * (x-mu) ** 2 / sigma2)\n",
        "  return exponential * coefficient"
      ]
    },
    {
      "cell_type": "code",
      "source": [
        "gauss_1 = f(10,4, 8)\n",
        "print(gauss_1)"
      ],
      "metadata": {
        "colab": {
          "base_uri": "https://localhost:8080/"
        },
        "id": "MGUV_XsH_Scd",
        "outputId": "4c141b9d-1fab-466b-d1fe-0f7975c180d0"
      },
      "execution_count": null,
      "outputs": [
        {
          "output_type": "stream",
          "name": "stdout",
          "text": [
            "0.12098536225957168\n"
          ]
        }
      ]
    },
    {
      "cell_type": "code",
      "source": [
        "mu = 10\n",
        "sigma2 = 4\n",
        "\n",
        "x_axis = np.arange(0, 20, 0.1)\n",
        "\n",
        "g = []\n",
        "for x in x_axis:\n",
        "  g.append(f(mu, sigma2, x))\n",
        "\n",
        "plt.plot(x_axis, g)"
      ],
      "metadata": {
        "colab": {
          "base_uri": "https://localhost:8080/",
          "height": 284
        },
        "id": "eB4A-1O3_Vzt",
        "outputId": "1e1ec998-64dd-4d32-85db-37a6cf7706b7"
      },
      "execution_count": null,
      "outputs": [
        {
          "output_type": "execute_result",
          "data": {
            "text/plain": [
              "[<matplotlib.lines.Line2D at 0x7fad959f4c10>]"
            ]
          },
          "metadata": {},
          "execution_count": 5
        },
        {
          "output_type": "display_data",
          "data": {
            "text/plain": [
              "<Figure size 432x288 with 1 Axes>"
            ],
            "image/png": "[encoded data removed]"
          },
          "metadata": {
            "needs_background": "light"
          }
        }
      ]
    },
    {
      "cell_type": "code",
      "source": [
        "gauss_2 = f(10, 4, 10)\n",
        "print(gauss_2)"
      ],
      "metadata": {
        "colab": {
          "base_uri": "https://localhost:8080/"
        },
        "id": "YjcAPljVAaPX",
        "outputId": "88ed34c6-507b-49d4-e29a-a285e718c1f3"
      },
      "execution_count": null,
      "outputs": [
        {
          "output_type": "stream",
          "name": "stdout",
          "text": [
            "0.19947114020071635\n"
          ]
        }
      ]
    },
    {
      "cell_type": "code",
      "source": [
        "from math import *\n",
        "import matplotlib.pyplot as plt\n",
        "import numpy as np\n",
        "\n",
        "def f(mu, sigma2, x):\n",
        "  coefficient = 1.0 / sqrt(2.0 * pi * sigma2)\n",
        "  exponential = exp(-0.5 * (x - mu) ** 2 / sigma2)\n",
        "  return coefficient * exponential\n",
        "\n",
        "def update(mean1, var1, mean2, var2):\n",
        "  new_mean = (mean1 * var2 + mean2 * var1) / (var1 + var2)\n",
        "  new_var = 1 / (1 / var1 + 1 / var2)\n",
        "  return new_mean, new_var"
      ],
      "metadata": {
        "id": "SUO1b9M4AsgL"
      },
      "execution_count": null,
      "outputs": []
    },
    {
      "cell_type": "code",
      "source": [
        "new_params = update(10, 4, 12, 4)\n",
        "print(new_params)"
      ],
      "metadata": {
        "colab": {
          "base_uri": "https://localhost:8080/"
        },
        "id": "O7OUctmsB9z4",
        "outputId": "44f03113-ceb0-41ac-9af7-dc4948ee22b5"
      },
      "execution_count": null,
      "outputs": [
        {
          "output_type": "stream",
          "name": "stdout",
          "text": [
            "[11.0, 2.0]\n"
          ]
        }
      ]
    },
    {
      "cell_type": "code",
      "source": [
        "mu = new_params[0]\n",
        "sigma2 = new_params[1]\n",
        "\n",
        "x_axis = np.arange(0, 20, 0.1)\n",
        "\n",
        "g = []\n",
        "for x in x_axis:\n",
        "  g.append(f(mu, sigma2, x))\n",
        "\n",
        "plt.plot(x_axis, g)"
      ],
      "metadata": {
        "colab": {
          "base_uri": "https://localhost:8080/",
          "height": 284
        },
        "id": "p3i1C7GGCYcT",
        "outputId": "1250a794-e73e-4ff4-d394-adcfbc89f0d8"
      },
      "execution_count": null,
      "outputs": [
        {
          "output_type": "execute_result",
          "data": {
            "text/plain": [
              "[<matplotlib.lines.Line2D at 0x7fad8caf3610>]"
            ]
          },
          "metadata": {},
          "execution_count": 9
        },
        {
          "output_type": "display_data",
          "data": {
            "text/plain": [
              "<Figure size 432x288 with 1 Axes>"
            ],
            "image/png": "[encoded data removed]"
          },
          "metadata": {
            "needs_background": "light"
          }
        }
      ]
    },
    {
      "cell_type": "code",
      "source": [
        "def predict (mean1, var1, mean2, var2):\n",
        "  new_mean = mean1 + mean2\n",
        "  new_var = var1 + var2\n",
        "  return new_mean, new_var"
      ],
      "metadata": {
        "id": "e8HJicqlEbC3"
      },
      "execution_count": null,
      "outputs": []
    },
    {
      "cell_type": "code",
      "source": [
        "measurements = [5., 6., 7., 9., 10.]\n",
        "motions = [1., 1., 2., 1., 1.]\n",
        "\n",
        "measurement_sig = 4.\n",
        "motion_sig = 2.\n",
        "mu = 0.\n",
        "sig = 10000\n",
        "\n",
        "for i in range(len(measurements)):\n",
        "  mu, sig = update(mu, sig, measurements[i], measurement_sig)\n",
        "  print(\"Update [mu, sig] : \", [mu, sig])\n",
        "  mu, sig = predict(mu, sig, motions[i], motion_sig)\n",
        "  print(\"Predict [mu, sig] :\", [mu, sig])"
      ],
      "metadata": {
        "colab": {
          "base_uri": "https://localhost:8080/"
        },
        "id": "M_OUWGH-Oz66",
        "outputId": "e8338784-1baa-4bfb-985a-5a9aaa84a5e2"
      },
      "execution_count": null,
      "outputs": [
        {
          "output_type": "stream",
          "name": "stdout",
          "text": [
            "Update [mu, sig] :  [4.998000799680128, 3.9984006397441023]\n",
            "Predict [mu, sig] : [5.998000799680128, 5.998400639744102]\n",
            "Update [mu, sig] :  [5.999200191953932, 2.399744061425258]\n",
            "Predict [mu, sig] : [6.999200191953932, 4.399744061425258]\n",
            "Update [mu, sig] :  [6.999619127420922, 2.0951800575117594]\n",
            "Predict [mu, sig] : [8.999619127420921, 4.09518005751176]\n",
            "Update [mu, sig] :  [8.999811802788143, 2.0235152416216957]\n",
            "Predict [mu, sig] : [9.999811802788143, 4.023515241621696]\n",
            "Update [mu, sig] :  [9.999906177177365, 2.0058615808441944]\n",
            "Predict [mu, sig] : [10.999906177177365, 4.005861580844194]\n"
          ]
        }
      ]
    },
    {
      "cell_type": "code",
      "source": [
        "x_axis = np.arange(-20, 20, 0.1)\n",
        "\n",
        "g = []\n",
        "for x in x_axis:\n",
        "  g.append(f(mu, sig, x))\n",
        "\n",
        "plt.plot(x_axis, g)"
      ],
      "metadata": {
        "colab": {
          "base_uri": "https://localhost:8080/",
          "height": 284
        },
        "id": "iUkcfRuTN2yi",
        "outputId": "5feb5319-a6dc-4f32-e9dc-9b64cf8a0767"
      },
      "execution_count": null,
      "outputs": [
        {
          "output_type": "execute_result",
          "data": {
            "text/plain": [
              "[<matplotlib.lines.Line2D at 0x7fad8c987280>]"
            ]
          },
          "metadata": {},
          "execution_count": 18
        },
        {
          "output_type": "display_data",
          "data": {
            "text/plain": [
              "<Figure size 432x288 with 1 Axes>"
            ],
            "image/png": "[encoded data removed]"
          },
          "metadata": {
            "needs_background": "light"
          }
        }
      ]
    },
    {
      "cell_type": "code",
      "source": [
        "# with very small uncertainty\n",
        "mu = 0\n",
        "sig = 0.0000000001\n",
        "\n",
        "for i in range(len(measurements)):\n",
        "  mu, sig = update(mu, sig, measurements[i], measurement_sig)\n",
        "  print(\"Update [mu, sig] : \", [mu, sig])\n",
        "  mu, sig = predict(mu, sig, motions[i], motion_sig)\n",
        "  print(\"Predict [mu, sig] :\", [mu, sig])\n",
        "\n",
        "  x_axis = np.arange(-20, 20, 0.1)\n",
        "\n",
        "g = []\n",
        "for x in x_axis:\n",
        "  g.append(f(mu, sig, x))\n",
        "\n",
        "plt.plot(x_axis, g)"
      ],
      "metadata": {
        "colab": {
          "base_uri": "https://localhost:8080/",
          "height": 471
        },
        "id": "l-hLsq7hPvvG",
        "outputId": "aab00b62-fc31-4512-dbc3-83ed35fe7888"
      },
      "execution_count": null,
      "outputs": [
        {
          "output_type": "stream",
          "name": "stdout",
          "text": [
            "Update [mu, sig] :  [1.24999999996875e-10, 9.99999999975e-11]\n",
            "Predict [mu, sig] : [1.000000000125, 2.0000000001]\n",
            "Update [mu, sig] :  [2.6666666668055554, 1.3333333333777777]\n",
            "Predict [mu, sig] : [3.6666666668055554, 3.3333333333777775]\n",
            "Update [mu, sig] :  [5.1818181819049585, 1.8181818181950413]\n",
            "Predict [mu, sig] : [7.1818181819049585, 3.8181818181950415]\n",
            "Update [mu, sig] :  [8.069767441906436, 1.9534883720964848]\n",
            "Predict [mu, sig] : [9.069767441906436, 3.953488372096485]\n",
            "Update [mu, sig] :  [9.532163742713381, 1.9883040935681267]\n",
            "Predict [mu, sig] : [10.532163742713381, 3.988304093568127]\n"
          ]
        },
        {
          "output_type": "execute_result",
          "data": {
            "text/plain": [
              "[<matplotlib.lines.Line2D at 0x7fad8c95dfa0>]"
            ]
          },
          "metadata": {},
          "execution_count": 19
        },
        {
          "output_type": "display_data",
          "data": {
            "text/plain": [
              "<Figure size 432x288 with 1 Axes>"
            ],
            "image/png": "[encoded data removed]"
          },
          "metadata": {
            "needs_background": "light"
          }
        }
      ]
    }
  ]
}